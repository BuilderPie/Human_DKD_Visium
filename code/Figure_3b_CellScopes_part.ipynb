{
 "cells": [
  {
   "cell_type": "code",
   "execution_count": 1,
   "metadata": {},
   "outputs": [
    {
     "data": {
      "application/vnd.webio.node+json": {
       "children": [],
       "instanceArgs": {
        "namespace": "html",
        "tag": "div"
       },
       "nodeType": "DOM",
       "props": {},
       "type": "node"
      },
      "text/html": [
       "<div style=\"padding: 1em; background-color: #f8d6da; border: 1px solid #f5c6cb; font-weight: bold;\">\n",
       "<p>The WebIO Jupyter extension was not detected. See the\n",
       "<a href=\"https://juliagizmos.github.io/WebIO.jl/latest/providers/ijulia/\" target=\"_blank\">\n",
       "    WebIO Jupyter integration documentation\n",
       "</a>\n",
       "for more information.\n",
       "</div>\n"
      ],
      "text/plain": [
       "WebIO._IJuliaInit()"
      ]
     },
     "metadata": {},
     "output_type": "display_data"
    },
    {
     "name": "stdout",
     "output_type": "stream",
     "text": [
      "Welcome to use CellScopes.jl!\n"
     ]
    }
   ],
   "source": [
    "import CellScopes as cs"
   ]
  },
  {
   "cell_type": "markdown",
   "metadata": {},
   "source": [
    "### Step 1. Load the cs object generated in Figure 1"
   ]
  },
  {
   "cell_type": "code",
   "execution_count": 2,
   "metadata": {},
   "outputs": [
    {
     "name": "stdout",
     "output_type": "stream",
     "text": [
      "  8.385748 seconds (10.09 M allocations: 1.637 GiB, 6.12% gc time, 89.79% compilation time: 13% of which was recompilation)\n"
     ]
    },
    {
     "data": {
      "text/plain": [
       "VisiumObject in CellScopes.jl\n"
      ]
     },
     "execution_count": 2,
     "metadata": {},
     "output_type": "execute_result"
    },
    {
     "name": "stdout",
     "output_type": "stream",
     "text": [
      "Genes x Cells = 18063 x 2802\n",
      "Available data:\n",
      "- rawCount\n",
      "- normCount\n",
      "- metaData\n",
      "- spmetaData\n",
      "- imageData\n",
      "All fields:\n",
      "- rawCount\n",
      "- normCount\n",
      "- scaleCount\n",
      "- metaData\n",
      "- spmetaData\n",
      "- varGene\n",
      "- dimReduction\n",
      "- clustData\n",
      "- imageData\n"
     ]
    }
   ],
   "source": [
    "@time dkd1 = cs.load(filename = \"../../processed_data/version_1/dkd1_by_CS.jld2\") "
   ]
  },
  {
   "cell_type": "markdown",
   "metadata": {},
   "source": [
    "### Step 2. Generate Spatial Feature Plot for selected marker genes"
   ]
  },
  {
   "cell_type": "code",
   "execution_count": 3,
   "metadata": {},
   "outputs": [],
   "source": [
    "using CairoMakie"
   ]
  },
  {
   "cell_type": "code",
   "execution_count": 4,
   "metadata": {},
   "outputs": [],
   "source": [
    "empty_theme = Theme(\n",
    "    Axis = (\n",
    "        backgroundcolor = :transparent,\n",
    "        leftspinevisible = false,\n",
    "        rightspinevisible = false,\n",
    "        bottomspinevisible = false,\n",
    "        topspinevisible = false,\n",
    "        xticklabelsvisible = false, \n",
    "        yticklabelsvisible = false,\n",
    "        xgridcolor = :transparent,\n",
    "        ygridcolor = :transparent,\n",
    "        xminorticksvisible = false,\n",
    "        yminorticksvisible = false,\n",
    "        xticksvisible = false,\n",
    "        yticksvisible = false,\n",
    "        xautolimitmargin = (0.0,0.0),\n",
    "        yautolimitmargin = (0.0,0.0),\n",
    "    )\n",
    ");\n",
    "\n",
    "update_theme!(empty_theme)"
   ]
  },
  {
   "cell_type": "code",
   "execution_count": null,
   "metadata": {},
   "outputs": [],
   "source": []
  },
  {
   "cell_type": "code",
   "execution_count": 5,
   "metadata": {},
   "outputs": [],
   "source": [
    "gene_array = [\"VSTM2L\", \"SOSTDC1\"];\n",
    "alpha = 0.01\n",
    "color_code = (\"#000000\",alpha)\n",
    "\n",
    "for gene in gene_array\n",
    "    p = cs.sp_feature_plot(dkd1, gene; \n",
    "        marker_size = 13, color_keys=[\"gray90\", \"blue\" ,\"darkblue\"], width = 800, height = 750,\n",
    "    adjust_contrast=1.5, adjust_brightness = 0.1, scale=true, alpha=[0,0.6],clip=0.2,img_res=\"high\");\n",
    "    p\n",
    "\n",
    "    save(\"../../plots/version_1/main_figures_cs/spFeaturePlot_cs_\"*gene*\".png\", p);\n",
    "    save(\"../../plots/version_1/main_figures_cs/spFeaturePlot_cs_\"*gene*\".pdf\", p);\n",
    "    save(\"../../plots/version_1/main_figures_cs/spFeaturePlot_cs_\"*gene*\".svg\", p);\n",
    "    \n",
    "end"
   ]
  },
  {
   "cell_type": "code",
   "execution_count": null,
   "metadata": {},
   "outputs": [],
   "source": []
  },
  {
   "cell_type": "code",
   "execution_count": null,
   "metadata": {},
   "outputs": [],
   "source": []
  },
  {
   "cell_type": "markdown",
   "metadata": {},
   "source": [
    "### Step 3. Generate spatial dim plot for Tumor subclusters"
   ]
  },
  {
   "cell_type": "markdown",
   "metadata": {},
   "source": [
    "#### 4.1. Add meta data"
   ]
  },
  {
   "cell_type": "code",
   "execution_count": 6,
   "metadata": {},
   "outputs": [],
   "source": [
    "using CSV\n",
    "using DataFrames"
   ]
  },
  {
   "cell_type": "code",
   "execution_count": 7,
   "metadata": {},
   "outputs": [],
   "source": [
    "anno_df = CSV.read(\"../../meta/subclusters_Tumor.csv\", DataFrame);\n",
    "dkd1.metaData.cluster = String.(anno_df[!,\"tumor_cluster\"]);\n",
    "dkd1.spmetaData.cluster = String.(anno_df[!,\"tumor_cluster\"]);"
   ]
  },
  {
   "cell_type": "code",
   "execution_count": 40,
   "metadata": {},
   "outputs": [],
   "source": [
    "alpha = 0.01\n",
    "cell_anno = [\"Tumor_0\", \n",
    "    \"Tumor_1\",\n",
    "    \"Tumor_2\",\n",
    "    \"Tumor_3\",\n",
    "    \"Tumor_4\",\n",
    "    \"none\"\n",
    "]\n",
    "c_map = [\"#222021\", \n",
    "    \"#777B7E\",\n",
    "    \"#98AFC7\",\n",
    "    \"#BDB7AB\",\n",
    "    \"#D9DDDC\",\n",
    "    (\"#000000\",alpha)\n",
    "]\n",
    "anno_color=Dict{String, Any}(cell_anno .=> c_map);"
   ]
  },
  {
   "cell_type": "code",
   "execution_count": 41,
   "metadata": {},
   "outputs": [
    {
     "data": {
      "text/plain": [
       "CairoMakie.Screen{SVG}\n"
      ]
     },
     "execution_count": 41,
     "metadata": {},
     "output_type": "execute_result"
    }
   ],
   "source": [
    "p = cs.sp_dim_plot(dkd1, \"cluster\"; \n",
    "    marker_size = 13, canvas_size = (800,750), adjust_contrast=1.5, adjust_brightness = 0.1,\n",
    "    do_label=false, alpha=1, img_res=\"high\", anno_color=anno_color);\n",
    "p    \n",
    "\n",
    "save(\"../../plots/version_1/main_figures_cs/spDimPlot_cs_Tumor_subcluster.png\", p);\n",
    "save(\"../../plots/version_1/main_figures_cs/spDimPlot_cs_Tumor_subcluster.pdf\", p);\n",
    "save(\"../../plots/version_1/main_figures_cs/spDimPlot_cs_Tumor_subcluster.svg\", p);\n",
    "    \n"
   ]
  },
  {
   "cell_type": "code",
   "execution_count": null,
   "metadata": {},
   "outputs": [],
   "source": []
  },
  {
   "cell_type": "code",
   "execution_count": null,
   "metadata": {},
   "outputs": [],
   "source": []
  },
  {
   "cell_type": "code",
   "execution_count": null,
   "metadata": {},
   "outputs": [],
   "source": []
  },
  {
   "cell_type": "code",
   "execution_count": null,
   "metadata": {},
   "outputs": [],
   "source": []
  },
  {
   "cell_type": "code",
   "execution_count": null,
   "metadata": {},
   "outputs": [],
   "source": []
  },
  {
   "cell_type": "code",
   "execution_count": 42,
   "metadata": {},
   "outputs": [
    {
     "name": "stderr",
     "output_type": "stream",
     "text": [
      "\u001b[33m\u001b[1m┌ \u001b[22m\u001b[39m\u001b[33m\u001b[1mWarning: \u001b[22m\u001b[39mPkg.installed() is deprecated\n",
      "\u001b[33m\u001b[1m└ \u001b[22m\u001b[39m\u001b[90m@ Pkg ~/julia-1.9.4/share/julia/stdlib/v1.9/Pkg/src/Pkg.jl:745\u001b[39m\n"
     ]
    },
    {
     "data": {
      "text/plain": [
       "Dict{String, VersionNumber} with 6 entries:\n",
       "  \"CSV\"        => v\"0.10.11\"\n",
       "  \"CairoMakie\" => v\"0.10.12\"\n",
       "  \"IJulia\"     => v\"1.24.2\"\n",
       "  \"DataFrames\" => v\"1.6.1\"\n",
       "  \"Leiden\"     => v\"0.1.0\"\n",
       "  \"CellScopes\" => v\"0.1.0\""
      ]
     },
     "execution_count": 42,
     "metadata": {},
     "output_type": "execute_result"
    }
   ],
   "source": [
    "using Pkg\n",
    "pkgs = Pkg.installed();\n",
    "pkgs"
   ]
  },
  {
   "cell_type": "code",
   "execution_count": null,
   "metadata": {},
   "outputs": [],
   "source": []
  },
  {
   "cell_type": "code",
   "execution_count": null,
   "metadata": {},
   "outputs": [],
   "source": []
  },
  {
   "cell_type": "code",
   "execution_count": null,
   "metadata": {},
   "outputs": [],
   "source": []
  }
 ],
 "metadata": {
  "kernelspec": {
   "display_name": "Julia 1.9.4",
   "language": "julia",
   "name": "julia-1.9"
  },
  "language_info": {
   "file_extension": ".jl",
   "mimetype": "application/julia",
   "name": "julia",
   "version": "1.9.4"
  }
 },
 "nbformat": 4,
 "nbformat_minor": 4
}
