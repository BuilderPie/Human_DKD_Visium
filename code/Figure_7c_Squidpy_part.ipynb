{
 "cells": [
  {
   "cell_type": "code",
   "execution_count": 1,
   "id": "f804a691",
   "metadata": {},
   "outputs": [
    {
     "name": "stdout",
     "output_type": "stream",
     "text": [
      "scanpy==1.9.3 anndata==0.9.1 umap==0.5.3 numpy==1.22.4 scipy==1.9.1 pandas==1.5.0 scikit-learn==1.2.2 statsmodels==0.14.0 pynndescent==0.5.10\n",
      "squidpy==1.2.3\n"
     ]
    }
   ],
   "source": [
    "import numpy as np\n",
    "import pandas as pd\n",
    "import os\n",
    "\n",
    "import anndata as ad\n",
    "import scanpy as sc\n",
    "import squidpy as sq\n",
    "\n",
    "import matplotlib\n",
    "import matplotlib.pyplot as plt\n",
    "import seaborn as sns\n",
    "import matplotlib.colors as mcolors\n",
    "\n",
    "sc.logging.print_header()\n",
    "print(f\"squidpy=={sq.__version__}\")"
   ]
  },
  {
   "cell_type": "code",
   "execution_count": 2,
   "id": "7a4ae733",
   "metadata": {},
   "outputs": [],
   "source": [
    "# trigger core fonts for PDF backend\n",
    "plt.rcParams[\"pdf.use14corefonts\"] = True\n",
    "# trigger core fonts for PS backend\n",
    "plt.rcParams[\"ps.useafm\"] = True\n",
    "\n",
    "plt.rcParams['font.family'] = 'Sans serif'"
   ]
  },
  {
   "cell_type": "markdown",
   "id": "534495da",
   "metadata": {},
   "source": [
    "### Step 0. Define color palette"
   ]
  },
  {
   "cell_type": "code",
   "execution_count": 3,
   "id": "c69e0080",
   "metadata": {},
   "outputs": [],
   "source": [
    "value_palette = [\"#FFFF00\",\n",
    "    \"#a7c957\",\n",
    "    \"#6a994e\",\n",
    "    \"#90e0ef\",\n",
    "    \"#0096c7\",\n",
    "    \"#800080\",\n",
    "    \"#A95C68\",\n",
    "    \"#BF8F00\",\n",
    "    \"#ff5a5f\",\n",
    "    \"#AD002A\",\n",
    "    \"#495057\",\n",
    "    \"#ced4da\"]\n",
    "    \n",
    "name_palette = [\"Glomeruli\",\n",
    "    \"PT\",\n",
    "    \"Inj-T\",\n",
    "    \"LH-CD\",\n",
    "    \"Cast-T\",\n",
    "    \"TLS\",\n",
    "    \"I-IFTA\",\n",
    "    \"Capsule\",\n",
    "    \"Artery-C\",\n",
    "    \"Artery-K\",\n",
    "    \"Tumor\",\n",
    "    \"Other\"]\n",
    "color_palette = dict(zip(name_palette, value_palette))\n",
    "\n",
    "\n",
    "value_palette_glom = [\"#fff088\", \n",
    "                         \"#c3ab00\",\n",
    "                         \"#615500\"]\n",
    "names_palette_glom = [\"DKDG\",\n",
    "                             \"SGS\",\n",
    "                             \"GGS\"]\n",
    "color_palette_glom = dict(zip(names_palette_glom, value_palette_glom))\n",
    "\n",
    "palette_merge = {**color_palette, **color_palette_glom}"
   ]
  },
  {
   "cell_type": "markdown",
   "id": "82ceaca0",
   "metadata": {},
   "source": [
    "### Step 1. Load the dkd1 dataset"
   ]
  },
  {
   "cell_type": "code",
   "execution_count": 4,
   "id": "cf649b28",
   "metadata": {},
   "outputs": [
    {
     "name": "stderr",
     "output_type": "stream",
     "text": [
      "/home/users/dianli/.local/lib/python3.8/site-packages/anndata/_core/anndata.py:1832: UserWarning: Variable names are not unique. To make them unique, call `.var_names_make_unique`.\n",
      "  utils.warn_names_duplicates(\"var\")\n"
     ]
    }
   ],
   "source": [
    "adata = sq.read.visium(\"../../data/AJHM365_dkd/outs/\", source_image_path = \"../../data/AJHM365_dkd/outs/spatial/tissue_hires_image.png\")\n",
    "adata.var_names_make_unique()"
   ]
  },
  {
   "cell_type": "markdown",
   "id": "403e0d83",
   "metadata": {},
   "source": [
    "#### Step 1.2. Load meta data"
   ]
  },
  {
   "cell_type": "code",
   "execution_count": 5,
   "id": "10039e2f",
   "metadata": {},
   "outputs": [
    {
     "name": "stdout",
     "output_type": "stream",
     "text": [
      "                   Morph-based\n",
      "AACACTTGGCAAGGAA-1       Tumor\n",
      "AACAGGATTCATAGTT-1   Glomeruli\n",
      "AACAGGTTATTGCACC-1          PT\n",
      "AACAGGTTCACCGAAG-1       LH-CD\n",
      "AACAGTCAGGCTCCGC-1       Other\n",
      "(2802, 1)\n"
     ]
    }
   ],
   "source": [
    "meta_morph_based = pd.read_csv(\"../../meta/Morph-based_v2.csv\")\n",
    "meta_morph_based.set_index('Barcode', inplace=True)\n",
    "meta_morph_based = meta_morph_based.loc[adata.obs.index, ]\n",
    "print(meta_morph_based.head(5))\n",
    "print(meta_morph_based.shape)"
   ]
  },
  {
   "cell_type": "code",
   "execution_count": 6,
   "id": "78f37e45",
   "metadata": {},
   "outputs": [],
   "source": [
    "adata.obs[\"Morph_based\"] = meta_morph_based[\"Morph-based\"]"
   ]
  },
  {
   "cell_type": "code",
   "execution_count": 7,
   "id": "b08589b4",
   "metadata": {},
   "outputs": [],
   "source": [
    "adata.bk = adata.copy()"
   ]
  },
  {
   "cell_type": "markdown",
   "id": "8cf409da",
   "metadata": {},
   "source": [
    "#### Step 1.3. Load glom meta data"
   ]
  },
  {
   "cell_type": "code",
   "execution_count": 8,
   "id": "33ad9924",
   "metadata": {},
   "outputs": [
    {
     "name": "stdout",
     "output_type": "stream",
     "text": [
      "(345, 2)\n"
     ]
    },
    {
     "data": {
      "text/html": [
       "<div>\n",
       "<style scoped>\n",
       "    .dataframe tbody tr th:only-of-type {\n",
       "        vertical-align: middle;\n",
       "    }\n",
       "\n",
       "    .dataframe tbody tr th {\n",
       "        vertical-align: top;\n",
       "    }\n",
       "\n",
       "    .dataframe thead th {\n",
       "        text-align: right;\n",
       "    }\n",
       "</style>\n",
       "<table border=\"1\" class=\"dataframe\">\n",
       "  <thead>\n",
       "    <tr style=\"text-align: right;\">\n",
       "      <th></th>\n",
       "      <th>Glomeruli_ID</th>\n",
       "      <th>Glom classification</th>\n",
       "    </tr>\n",
       "    <tr>\n",
       "      <th>Barcode</th>\n",
       "      <th></th>\n",
       "      <th></th>\n",
       "    </tr>\n",
       "  </thead>\n",
       "  <tbody>\n",
       "    <tr>\n",
       "      <th>CATCGGCATGTCGAAG-1</th>\n",
       "      <td>G2</td>\n",
       "      <td>DKDG</td>\n",
       "    </tr>\n",
       "    <tr>\n",
       "      <th>CCATGAACAATGCTCC-1</th>\n",
       "      <td>G2</td>\n",
       "      <td>DKDG</td>\n",
       "    </tr>\n",
       "    <tr>\n",
       "      <th>TGTACCACATACTGGT-1</th>\n",
       "      <td>G2</td>\n",
       "      <td>DKDG</td>\n",
       "    </tr>\n",
       "    <tr>\n",
       "      <th>CGAGCGTAATGGAGTG-1</th>\n",
       "      <td>G3</td>\n",
       "      <td>DKDG</td>\n",
       "    </tr>\n",
       "    <tr>\n",
       "      <th>CTGTGGTAAGCTAATA-1</th>\n",
       "      <td>G3</td>\n",
       "      <td>DKDG</td>\n",
       "    </tr>\n",
       "  </tbody>\n",
       "</table>\n",
       "</div>"
      ],
      "text/plain": [
       "                   Glomeruli_ID Glom classification\n",
       "Barcode                                            \n",
       "CATCGGCATGTCGAAG-1           G2                DKDG\n",
       "CCATGAACAATGCTCC-1           G2                DKDG\n",
       "TGTACCACATACTGGT-1           G2                DKDG\n",
       "CGAGCGTAATGGAGTG-1           G3                DKDG\n",
       "CTGTGGTAAGCTAATA-1           G3                DKDG"
      ]
     },
     "execution_count": 8,
     "metadata": {},
     "output_type": "execute_result"
    }
   ],
   "source": [
    "meta_glom = pd.read_csv(\"../../meta/spots_selection - dkd_glom_v2_1.csv\")\n",
    "meta_glom.set_index('Barcode', inplace=True)\n",
    "print(meta_glom.shape)\n",
    "meta_glom.head()"
   ]
  },
  {
   "cell_type": "markdown",
   "id": "6f9b31f8",
   "metadata": {},
   "source": [
    "### Step 2. Create helper function for co-occurrence analysis"
   ]
  },
  {
   "cell_type": "code",
   "execution_count": 9,
   "id": "1dc13203",
   "metadata": {},
   "outputs": [],
   "source": [
    "def co_occurrence_plot(adata = adata, \n",
    "                       meta_morph_based = meta_morph_based, \n",
    "                       meta_glom = meta_glom,\n",
    "                       cluster_compare=\"PT\", \n",
    "                       color_palette = palette_merge,\n",
    "                       plot_path = \"../../plots/version_1/main_figures/\",\n",
    "                       figsize = (6, 4), \n",
    "                       dpi = 300):\n",
    "    plot_path = os.path.join(plot_path, \"squidpy_co_occurrence\")\n",
    "    #### Generate output folder\n",
    "    if not os.path.exists(plot_path):\n",
    "        os.makedirs(plot_path)\n",
    "    \n",
    "    #### Update glom subcluter meta info\n",
    "    meta_glom_CastT = meta_morph_based.copy()\n",
    "    meta_glom_CastT[\"glom_sub\"] = meta_glom_CastT[\"Morph-based\"]\n",
    "\n",
    "    meta_glom_CastT.loc[meta_glom_CastT['glom_sub'] != cluster_compare, 'glom_sub'] = 'Other'\n",
    "    meta_glom_CastT.loc[meta_glom.index, 'glom_sub'] = meta_glom['Glom classification']\n",
    "    \n",
    "    adata.obs[\"glom_sub\"] = meta_glom_CastT[\"glom_sub\"].astype('category')\n",
    "    #### Subset adata\n",
    "    mask = ~adata.obs['glom_sub'].isin(['Other', 'SGS'])\n",
    "    adata_subset = adata[mask].copy()\n",
    "    \n",
    "    #### Set color\n",
    "    my_color = [color_palette[item] for item in sorted([\"DKDG\", \"GGS\", cluster_compare], key=str.casefold)]\n",
    "    adata_subset.uns['glom_sub_colors'] = my_color\n",
    "    \n",
    "    ### Co_occurrence analysis\n",
    "    sq.gr.co_occurrence(\n",
    "        adata_subset,\n",
    "        cluster_key=\"glom_sub\",\n",
    "    )\n",
    "    \n",
    "    ### generate and export plots\n",
    "    sq.pl.co_occurrence(\n",
    "        adata_subset,\n",
    "        cluster_key=\"glom_sub\",\n",
    "        clusters=cluster_compare,\n",
    "        figsize=(10, 10)\n",
    "    )\n",
    "\n",
    "    plt.xlabel('Distance', fontsize=12)\n",
    "    plt.ylabel('Co-occurrence Score', fontsize=12)\n",
    "\n",
    "    # Save the plot as PDF\n",
    "    plt.gcf().set_size_inches(figsize)\n",
    "    plt.savefig(os.path.join(plot_path, 'squidpy_co_occurrence_'+cluster_compare+'.pdf'), dpi=dpi, bbox_inches='tight')\n",
    "\n",
    "    # Save the same plot as PNG\n",
    "    plt.gcf().set_size_inches(figsize)\n",
    "    plt.savefig(os.path.join(plot_path, 'squidpy_co_occurrence_'+cluster_compare+'.png'), dpi=dpi, bbox_inches='tight')\n",
    "\n",
    "    # Clear the current figure after saving, if you're going to create more plots\n",
    "    plt.clf()\n",
    "    "
   ]
  },
  {
   "cell_type": "code",
   "execution_count": 10,
   "id": "b204e171",
   "metadata": {},
   "outputs": [
    {
     "data": {
      "application/vnd.jupyter.widget-view+json": {
       "model_id": "54204bb2f6854fdeac2fec1fecae8690",
       "version_major": 2,
       "version_minor": 0
      },
      "text/plain": [
       "  0%|          | 0/1 [00:00<?, ?/s]"
      ]
     },
     "metadata": {},
     "output_type": "display_data"
    },
    {
     "data": {
      "application/vnd.jupyter.widget-view+json": {
       "model_id": "4abc069051f048c0a8d6efc3b624d155",
       "version_major": 2,
       "version_minor": 0
      },
      "text/plain": [
       "  0%|          | 0/1 [00:00<?, ?/s]"
      ]
     },
     "metadata": {},
     "output_type": "display_data"
    },
    {
     "data": {
      "application/vnd.jupyter.widget-view+json": {
       "model_id": "92117fb805a9412b97caef4233045bee",
       "version_major": 2,
       "version_minor": 0
      },
      "text/plain": [
       "  0%|          | 0/1 [00:00<?, ?/s]"
      ]
     },
     "metadata": {},
     "output_type": "display_data"
    },
    {
     "data": {
      "application/vnd.jupyter.widget-view+json": {
       "model_id": "feb61c96057f4af69ca9b9a9db9b9b6c",
       "version_major": 2,
       "version_minor": 0
      },
      "text/plain": [
       "  0%|          | 0/1 [00:00<?, ?/s]"
      ]
     },
     "metadata": {},
     "output_type": "display_data"
    },
    {
     "data": {
      "application/vnd.jupyter.widget-view+json": {
       "model_id": "799fc007419b4e49aea1b30968ee270c",
       "version_major": 2,
       "version_minor": 0
      },
      "text/plain": [
       "  0%|          | 0/1 [00:00<?, ?/s]"
      ]
     },
     "metadata": {},
     "output_type": "display_data"
    },
    {
     "data": {
      "application/vnd.jupyter.widget-view+json": {
       "model_id": "d6013cf21af7428890d7eeba20a28875",
       "version_major": 2,
       "version_minor": 0
      },
      "text/plain": [
       "  0%|          | 0/1 [00:00<?, ?/s]"
      ]
     },
     "metadata": {},
     "output_type": "display_data"
    },
    {
     "data": {
      "text/plain": [
       "<Figure size 600x400 with 0 Axes>"
      ]
     },
     "metadata": {},
     "output_type": "display_data"
    },
    {
     "data": {
      "text/plain": [
       "<Figure size 600x400 with 0 Axes>"
      ]
     },
     "metadata": {},
     "output_type": "display_data"
    },
    {
     "data": {
      "text/plain": [
       "<Figure size 600x400 with 0 Axes>"
      ]
     },
     "metadata": {},
     "output_type": "display_data"
    },
    {
     "data": {
      "text/plain": [
       "<Figure size 600x400 with 0 Axes>"
      ]
     },
     "metadata": {},
     "output_type": "display_data"
    },
    {
     "data": {
      "text/plain": [
       "<Figure size 600x400 with 0 Axes>"
      ]
     },
     "metadata": {},
     "output_type": "display_data"
    },
    {
     "data": {
      "text/plain": [
       "<Figure size 600x400 with 0 Axes>"
      ]
     },
     "metadata": {},
     "output_type": "display_data"
    }
   ],
   "source": [
    "for cluster_compare in [\"PT\", \"Inj-T\", \"LH-CD\", \"Artery-K\", \"Cast-T\", \"TLS\"]:\n",
    "    co_occurrence_plot(cluster_compare=cluster_compare, plot_path = \"../../plots/version_1/main_figures/\")"
   ]
  },
  {
   "cell_type": "code",
   "execution_count": null,
   "id": "92e0543a",
   "metadata": {},
   "outputs": [],
   "source": []
  }
 ],
 "metadata": {
  "kernelspec": {
   "display_name": "Python 3 (ipykernel)",
   "language": "python",
   "name": "python3"
  },
  "language_info": {
   "codemirror_mode": {
    "name": "ipython",
    "version": 3
   },
   "file_extension": ".py",
   "mimetype": "text/x-python",
   "name": "python",
   "nbconvert_exporter": "python",
   "pygments_lexer": "ipython3",
   "version": "3.8.13"
  }
 },
 "nbformat": 4,
 "nbformat_minor": 5
}
