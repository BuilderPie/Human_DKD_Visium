{
 "cells": [
  {
   "cell_type": "code",
   "execution_count": 1,
   "id": "208c2b59",
   "metadata": {},
   "outputs": [],
   "source": [
    "#!/usr/bin/env RScript\n",
    "###################################################################\n",
    "# Description: \n",
    "# 1. set color code for each cluster in Morph-based.csv annotation\n",
    "# Author: Dian Li\n",
    "# Last modified: 2023-December-4"
   ]
  },
  {
   "cell_type": "code",
   "execution_count": 4,
   "id": "b29b568b",
   "metadata": {},
   "outputs": [],
   "source": [
    "anno <- read.csv(\"../../meta/Morph-based.csv\")"
   ]
  },
  {
   "cell_type": "code",
   "execution_count": 5,
   "id": "69219dfb",
   "metadata": {},
   "outputs": [
    {
     "data": {
      "text/html": [
       "<style>\n",
       ".list-inline {list-style: none; margin:0; padding: 0}\n",
       ".list-inline>li {display: inline-block}\n",
       ".list-inline>li:not(:last-child)::after {content: \"\\00b7\"; padding: 0 .5ex}\n",
       "</style>\n",
       "<ol class=list-inline><li>2802</li><li>2</li></ol>\n"
      ],
      "text/latex": [
       "\\begin{enumerate*}\n",
       "\\item 2802\n",
       "\\item 2\n",
       "\\end{enumerate*}\n"
      ],
      "text/markdown": [
       "1. 2802\n",
       "2. 2\n",
       "\n",
       "\n"
      ],
      "text/plain": [
       "[1] 2802    2"
      ]
     },
     "metadata": {},
     "output_type": "display_data"
    },
    {
     "data": {
      "text/html": [
       "<table class=\"dataframe\">\n",
       "<caption>A data.frame: 6 × 2</caption>\n",
       "<thead>\n",
       "\t<tr><th></th><th scope=col>Barcode</th><th scope=col>Morph.based</th></tr>\n",
       "\t<tr><th></th><th scope=col>&lt;chr&gt;</th><th scope=col>&lt;chr&gt;</th></tr>\n",
       "</thead>\n",
       "<tbody>\n",
       "\t<tr><th scope=row>1</th><td>AACACTTGGCAAGGAA-1</td><td>Tumor    </td></tr>\n",
       "\t<tr><th scope=row>2</th><td>AACAGGATTCATAGTT-1</td><td>Glomeruli</td></tr>\n",
       "\t<tr><th scope=row>3</th><td>AACAGGTTATTGCACC-1</td><td>PT       </td></tr>\n",
       "\t<tr><th scope=row>4</th><td>AACAGGTTCACCGAAG-1</td><td>LH-CD    </td></tr>\n",
       "\t<tr><th scope=row>5</th><td>AACAGTCAGGCTCCGC-1</td><td>Other    </td></tr>\n",
       "\t<tr><th scope=row>6</th><td>AACATCTTAAGGCTCA-1</td><td>Other    </td></tr>\n",
       "</tbody>\n",
       "</table>\n"
      ],
      "text/latex": [
       "A data.frame: 6 × 2\n",
       "\\begin{tabular}{r|ll}\n",
       "  & Barcode & Morph.based\\\\\n",
       "  & <chr> & <chr>\\\\\n",
       "\\hline\n",
       "\t1 & AACACTTGGCAAGGAA-1 & Tumor    \\\\\n",
       "\t2 & AACAGGATTCATAGTT-1 & Glomeruli\\\\\n",
       "\t3 & AACAGGTTATTGCACC-1 & PT       \\\\\n",
       "\t4 & AACAGGTTCACCGAAG-1 & LH-CD    \\\\\n",
       "\t5 & AACAGTCAGGCTCCGC-1 & Other    \\\\\n",
       "\t6 & AACATCTTAAGGCTCA-1 & Other    \\\\\n",
       "\\end{tabular}\n"
      ],
      "text/markdown": [
       "\n",
       "A data.frame: 6 × 2\n",
       "\n",
       "| <!--/--> | Barcode &lt;chr&gt; | Morph.based &lt;chr&gt; |\n",
       "|---|---|---|\n",
       "| 1 | AACACTTGGCAAGGAA-1 | Tumor     |\n",
       "| 2 | AACAGGATTCATAGTT-1 | Glomeruli |\n",
       "| 3 | AACAGGTTATTGCACC-1 | PT        |\n",
       "| 4 | AACAGGTTCACCGAAG-1 | LH-CD     |\n",
       "| 5 | AACAGTCAGGCTCCGC-1 | Other     |\n",
       "| 6 | AACATCTTAAGGCTCA-1 | Other     |\n",
       "\n"
      ],
      "text/plain": [
       "  Barcode            Morph.based\n",
       "1 AACACTTGGCAAGGAA-1 Tumor      \n",
       "2 AACAGGATTCATAGTT-1 Glomeruli  \n",
       "3 AACAGGTTATTGCACC-1 PT         \n",
       "4 AACAGGTTCACCGAAG-1 LH-CD      \n",
       "5 AACAGTCAGGCTCCGC-1 Other      \n",
       "6 AACATCTTAAGGCTCA-1 Other      "
      ]
     },
     "metadata": {},
     "output_type": "display_data"
    },
    {
     "data": {
      "text/plain": [
       "\n",
       " Artery-C  Artery-K   Capsula    Cast-T Glomeruli    I-IFTA     Inj-T     LH-CD \n",
       "       19       108       138       350       345        94       345       649 \n",
       "    Other        PT       TLS     Tumor \n",
       "      292       295         9       158 "
      ]
     },
     "metadata": {},
     "output_type": "display_data"
    }
   ],
   "source": [
    "dim(anno)\n",
    "head(anno)\n",
    "table(anno$Morph.based)"
   ]
  },
  {
   "cell_type": "markdown",
   "id": "13f3726b",
   "metadata": {},
   "source": [
    "### Part 1. Set color palette"
   ]
  },
  {
   "cell_type": "code",
   "execution_count": 6,
   "id": "8b159f69",
   "metadata": {},
   "outputs": [],
   "source": [
    "color_palette = c(\n",
    "    \"#FFFF00\",\n",
    "    \"#a7c957\",\n",
    "    \"#6a994e\",\n",
    "    \"#90e0ef\",\n",
    "    \"#0096c7\",\n",
    "    \"#800080\",\n",
    "    \"#A95C68\",\n",
    "    \"#BF8F00\",\n",
    "    \"#ff5a5f\",\n",
    "    \"#AD002A\",\n",
    "    \"#495057\",\n",
    "    \"#ced4da\")"
   ]
  },
  {
   "cell_type": "code",
   "execution_count": 7,
   "id": "7a7fe7f2",
   "metadata": {},
   "outputs": [],
   "source": [
    "names(color_palette) = c(\n",
    "    \"Glomeruli\",\n",
    "    \"PT\",\n",
    "    \"Inj-T\",\n",
    "    \"LH-CD\",\n",
    "    \"Cast-T\",\n",
    "    \"TLS\",\n",
    "    \"I-IFTA\",\n",
    "    \"Capsule\",\n",
    "    \"Artery-C\",\n",
    "    \"Artery-K\",\n",
    "    \"Tumor\",\n",
    "    \"Other\"\n",
    ")"
   ]
  },
  {
   "cell_type": "code",
   "execution_count": 8,
   "id": "283130c3",
   "metadata": {},
   "outputs": [
    {
     "data": {
      "text/html": [
       "<style>\n",
       ".dl-inline {width: auto; margin:0; padding: 0}\n",
       ".dl-inline>dt, .dl-inline>dd {float: none; width: auto; display: inline-block}\n",
       ".dl-inline>dt::after {content: \":\\0020\"; padding-right: .5ex}\n",
       ".dl-inline>dt:not(:first-of-type) {padding-left: .5ex}\n",
       "</style><dl class=dl-inline><dt>Glomeruli</dt><dd>'#FFFF00'</dd><dt>PT</dt><dd>'#a7c957'</dd><dt>Inj-T</dt><dd>'#6a994e'</dd><dt>LH-CD</dt><dd>'#90e0ef'</dd><dt>Cast-T</dt><dd>'#0096c7'</dd><dt>TLS</dt><dd>'#800080'</dd><dt>I-IFTA</dt><dd>'#A95C68'</dd><dt>Capsule</dt><dd>'#BF8F00'</dd><dt>Artery-C</dt><dd>'#ff5a5f'</dd><dt>Artery-K</dt><dd>'#AD002A'</dd><dt>Tumor</dt><dd>'#495057'</dd><dt>Other</dt><dd>'#ced4da'</dd></dl>\n"
      ],
      "text/latex": [
       "\\begin{description*}\n",
       "\\item[Glomeruli] '\\#FFFF00'\n",
       "\\item[PT] '\\#a7c957'\n",
       "\\item[Inj-T] '\\#6a994e'\n",
       "\\item[LH-CD] '\\#90e0ef'\n",
       "\\item[Cast-T] '\\#0096c7'\n",
       "\\item[TLS] '\\#800080'\n",
       "\\item[I-IFTA] '\\#A95C68'\n",
       "\\item[Capsule] '\\#BF8F00'\n",
       "\\item[Artery-C] '\\#ff5a5f'\n",
       "\\item[Artery-K] '\\#AD002A'\n",
       "\\item[Tumor] '\\#495057'\n",
       "\\item[Other] '\\#ced4da'\n",
       "\\end{description*}\n"
      ],
      "text/markdown": [
       "Glomeruli\n",
       ":   '#FFFF00'PT\n",
       ":   '#a7c957'Inj-T\n",
       ":   '#6a994e'LH-CD\n",
       ":   '#90e0ef'Cast-T\n",
       ":   '#0096c7'TLS\n",
       ":   '#800080'I-IFTA\n",
       ":   '#A95C68'Capsule\n",
       ":   '#BF8F00'Artery-C\n",
       ":   '#ff5a5f'Artery-K\n",
       ":   '#AD002A'Tumor\n",
       ":   '#495057'Other\n",
       ":   '#ced4da'\n",
       "\n"
      ],
      "text/plain": [
       "Glomeruli        PT     Inj-T     LH-CD    Cast-T       TLS    I-IFTA   Capsule \n",
       "\"#FFFF00\" \"#a7c957\" \"#6a994e\" \"#90e0ef\" \"#0096c7\" \"#800080\" \"#A95C68\" \"#BF8F00\" \n",
       " Artery-C  Artery-K     Tumor     Other \n",
       "\"#ff5a5f\" \"#AD002A\" \"#495057\" \"#ced4da\" "
      ]
     },
     "metadata": {},
     "output_type": "display_data"
    }
   ],
   "source": [
    "color_palette"
   ]
  },
  {
   "cell_type": "code",
   "execution_count": 9,
   "id": "f4a1e22c",
   "metadata": {},
   "outputs": [
    {
     "data": {
      "image/png": "[encoded data removed]",
      "text/plain": [
       "plot without title"
      ]
     },
     "metadata": {
      "image/png": {
       "height": 420,
       "width": 420
      }
     },
     "output_type": "display_data"
    }
   ],
   "source": [
    "library(\"scales\")\n",
    "show_col(color_palette)"
   ]
  },
  {
   "cell_type": "markdown",
   "id": "6799a37d",
   "metadata": {},
   "source": [
    "### save color_palette to meta file"
   ]
  },
  {
   "cell_type": "code",
   "execution_count": 8,
   "id": "d4eb25a6",
   "metadata": {},
   "outputs": [],
   "source": [
    "save(list = c(\"color_palette\"), file = \"../../meta/meta_info.RData\")"
   ]
  },
  {
   "cell_type": "code",
   "execution_count": null,
   "id": "40b99a9f",
   "metadata": {},
   "outputs": [],
   "source": []
  },
  {
   "cell_type": "markdown",
   "id": "07e4f1ce",
   "metadata": {},
   "source": [
    "### Part 2. Set color palette with glomeruli region subclusterred"
   ]
  },
  {
   "cell_type": "code",
   "execution_count": 10,
   "id": "b0399008",
   "metadata": {},
   "outputs": [],
   "source": [
    "color_palette2 = c(\n",
    "    \"#fff088\", \n",
    "    \"#c3ab00\",\n",
    "    \"#615500\",\n",
    "    \"#a7c957\",\n",
    "    \"#6a994e\",\n",
    "    \"#90e0ef\",\n",
    "    \"#0096c7\",\n",
    "    \"#800080\",\n",
    "    \"#A95C68\",\n",
    "    \"#BF8F00\",\n",
    "    \"#ff5a5f\",\n",
    "    \"#AD002A\",\n",
    "    \"#495057\",\n",
    "    \"#ced4da\")"
   ]
  },
  {
   "cell_type": "code",
   "execution_count": 11,
   "id": "97ce07db",
   "metadata": {},
   "outputs": [],
   "source": [
    "names(color_palette2) = c(\n",
    "    \"DKDG\",\n",
    "    \"SGS\",\n",
    "    \"GGS\",\n",
    "    \"PT\",\n",
    "    \"Inj-T\",\n",
    "    \"LH-CD\",\n",
    "    \"Cast-T\",\n",
    "    \"TLS\",\n",
    "    \"I-IFTA\",\n",
    "    \"Capsule\",\n",
    "    \"Artery-C\",\n",
    "    \"Artery-K\",\n",
    "    \"Tumor\",\n",
    "    \"Other\"\n",
    ")"
   ]
  },
  {
   "cell_type": "code",
   "execution_count": 12,
   "id": "ef52ea2e",
   "metadata": {},
   "outputs": [
    {
     "data": {
      "image/png": "[encoded data removed]",
      "text/plain": [
       "plot without title"
      ]
     },
     "metadata": {
      "image/png": {
       "height": 420,
       "width": 420
      }
     },
     "output_type": "display_data"
    }
   ],
   "source": [
    "show_col(color_palette2)"
   ]
  },
  {
   "cell_type": "code",
   "execution_count": 13,
   "id": "44d79a91",
   "metadata": {},
   "outputs": [
    {
     "data": {
      "text/html": [
       "<style>\n",
       ".dl-inline {width: auto; margin:0; padding: 0}\n",
       ".dl-inline>dt, .dl-inline>dd {float: none; width: auto; display: inline-block}\n",
       ".dl-inline>dt::after {content: \":\\0020\"; padding-right: .5ex}\n",
       ".dl-inline>dt:not(:first-of-type) {padding-left: .5ex}\n",
       "</style><dl class=dl-inline><dt>DKDG</dt><dd>'#fff088'</dd><dt>SGS</dt><dd>'#c3ab00'</dd><dt>GGS</dt><dd>'#615500'</dd><dt>PT</dt><dd>'#a7c957'</dd><dt>Inj-T</dt><dd>'#6a994e'</dd><dt>LH-CD</dt><dd>'#90e0ef'</dd><dt>Cast-T</dt><dd>'#0096c7'</dd><dt>TLS</dt><dd>'#800080'</dd><dt>I-IFTA</dt><dd>'#A95C68'</dd><dt>Capsule</dt><dd>'#BF8F00'</dd><dt>Artery-C</dt><dd>'#ff5a5f'</dd><dt>Artery-K</dt><dd>'#AD002A'</dd><dt>Tumor</dt><dd>'#495057'</dd><dt>Other</dt><dd>'#ced4da'</dd></dl>\n"
      ],
      "text/latex": [
       "\\begin{description*}\n",
       "\\item[DKDG] '\\#fff088'\n",
       "\\item[SGS] '\\#c3ab00'\n",
       "\\item[GGS] '\\#615500'\n",
       "\\item[PT] '\\#a7c957'\n",
       "\\item[Inj-T] '\\#6a994e'\n",
       "\\item[LH-CD] '\\#90e0ef'\n",
       "\\item[Cast-T] '\\#0096c7'\n",
       "\\item[TLS] '\\#800080'\n",
       "\\item[I-IFTA] '\\#A95C68'\n",
       "\\item[Capsule] '\\#BF8F00'\n",
       "\\item[Artery-C] '\\#ff5a5f'\n",
       "\\item[Artery-K] '\\#AD002A'\n",
       "\\item[Tumor] '\\#495057'\n",
       "\\item[Other] '\\#ced4da'\n",
       "\\end{description*}\n"
      ],
      "text/markdown": [
       "DKDG\n",
       ":   '#fff088'SGS\n",
       ":   '#c3ab00'GGS\n",
       ":   '#615500'PT\n",
       ":   '#a7c957'Inj-T\n",
       ":   '#6a994e'LH-CD\n",
       ":   '#90e0ef'Cast-T\n",
       ":   '#0096c7'TLS\n",
       ":   '#800080'I-IFTA\n",
       ":   '#A95C68'Capsule\n",
       ":   '#BF8F00'Artery-C\n",
       ":   '#ff5a5f'Artery-K\n",
       ":   '#AD002A'Tumor\n",
       ":   '#495057'Other\n",
       ":   '#ced4da'\n",
       "\n"
      ],
      "text/plain": [
       "     DKDG       SGS       GGS        PT     Inj-T     LH-CD    Cast-T       TLS \n",
       "\"#fff088\" \"#c3ab00\" \"#615500\" \"#a7c957\" \"#6a994e\" \"#90e0ef\" \"#0096c7\" \"#800080\" \n",
       "   I-IFTA   Capsule  Artery-C  Artery-K     Tumor     Other \n",
       "\"#A95C68\" \"#BF8F00\" \"#ff5a5f\" \"#AD002A\" \"#495057\" \"#ced4da\" "
      ]
     },
     "metadata": {},
     "output_type": "display_data"
    }
   ],
   "source": [
    "color_palette2"
   ]
  },
  {
   "cell_type": "code",
   "execution_count": 13,
   "id": "4ab072d1",
   "metadata": {},
   "outputs": [],
   "source": [
    "save(list = c(\"color_palette\", \"color_palette2\"), file = \"../../meta/meta_info2.RData\")"
   ]
  },
  {
   "cell_type": "code",
   "execution_count": null,
   "id": "1493bb1d",
   "metadata": {},
   "outputs": [],
   "source": []
  },
  {
   "cell_type": "code",
   "execution_count": 14,
   "id": "f551cf2c",
   "metadata": {},
   "outputs": [
    {
     "data": {
      "text/plain": [
       "R version 4.2.2 (2022-10-31)\n",
       "Platform: x86_64-pc-linux-gnu (64-bit)\n",
       "Running under: Ubuntu 20.04.2 LTS\n",
       "\n",
       "Matrix products: default\n",
       "BLAS:   /usr/lib/x86_64-linux-gnu/blas/libblas.so.3.9.0\n",
       "LAPACK: /usr/lib/x86_64-linux-gnu/lapack/liblapack.so.3.9.0\n",
       "\n",
       "locale:\n",
       " [1] LC_CTYPE=en_US.UTF-8       LC_NUMERIC=C              \n",
       " [3] LC_TIME=en_US.UTF-8        LC_COLLATE=en_US.UTF-8    \n",
       " [5] LC_MONETARY=en_US.UTF-8    LC_MESSAGES=en_US.UTF-8   \n",
       " [7] LC_PAPER=en_US.UTF-8       LC_NAME=C                 \n",
       " [9] LC_ADDRESS=C               LC_TELEPHONE=C            \n",
       "[11] LC_MEASUREMENT=en_US.UTF-8 LC_IDENTIFICATION=C       \n",
       "\n",
       "attached base packages:\n",
       "[1] stats     graphics  grDevices utils     datasets  methods   base     \n",
       "\n",
       "other attached packages:\n",
       "[1] scales_1.2.1\n",
       "\n",
       "loaded via a namespace (and not attached):\n",
       " [1] getPass_0.2-2       munsell_0.5.0       uuid_1.1-0         \n",
       " [4] colorspace_2.1-0    R6_2.5.1            rlang_1.1.1        \n",
       " [7] fastmap_1.1.1       fansi_1.0.4         tools_4.2.2        \n",
       "[10] utf8_1.2.3          cli_3.6.1           htmltools_0.5.5    \n",
       "[13] digest_0.6.33       lifecycle_1.0.3     crayon_1.5.2       \n",
       "[16] IRdisplay_1.1       farver_2.1.1        repr_1.1.6         \n",
       "[19] base64enc_0.1-3     vctrs_0.6.3         IRkernel_1.3.2.9000\n",
       "[22] glue_1.6.2          evaluate_0.21       pbdZMQ_0.3-9       \n",
       "[25] compiler_4.2.2      pillar_1.9.0        jsonlite_1.8.7     \n",
       "[28] Cairo_1.6-1        "
      ]
     },
     "metadata": {},
     "output_type": "display_data"
    }
   ],
   "source": [
    "sessionInfo()"
   ]
  },
  {
   "cell_type": "code",
   "execution_count": null,
   "id": "811861cc",
   "metadata": {},
   "outputs": [],
   "source": []
  }
 ],
 "metadata": {
  "kernelspec": {
   "display_name": "R",
   "language": "R",
   "name": "ir"
  },
  "language_info": {
   "codemirror_mode": "r",
   "file_extension": ".r",
   "mimetype": "text/x-r-source",
   "name": "R",
   "pygments_lexer": "r",
   "version": "4.2.2"
  }
 },
 "nbformat": 4,
 "nbformat_minor": 5
}
